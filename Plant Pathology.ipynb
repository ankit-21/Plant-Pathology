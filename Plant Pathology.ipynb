{
 "cells": [
  {
   "cell_type": "code",
   "execution_count": 1,
   "metadata": {},
   "outputs": [
    {
     "name": "stderr",
     "output_type": "stream",
     "text": [
      "Using TensorFlow backend.\n"
     ]
    }
   ],
   "source": [
    "import keras\n",
    "from keras.models import Sequential\n",
    "from keras.layers import Dense, Dropout, Flatten\n",
    "from keras.layers import Conv2D, MaxPooling2D\n",
    "from keras.utils import to_categorical\n",
    "from keras.preprocessing import image\n",
    "import numpy as np\n",
    "import pandas as pd\n",
    "import matplotlib.pyplot as plt\n",
    "from sklearn.model_selection import train_test_split\n",
    "from tqdm import tqdm\n",
    "%matplotlib inline"
   ]
  },
  {
   "cell_type": "code",
   "execution_count": 2,
   "metadata": {},
   "outputs": [
    {
     "data": {
      "text/html": [
       "<div>\n",
       "<style scoped>\n",
       "    .dataframe tbody tr th:only-of-type {\n",
       "        vertical-align: middle;\n",
       "    }\n",
       "\n",
       "    .dataframe tbody tr th {\n",
       "        vertical-align: top;\n",
       "    }\n",
       "\n",
       "    .dataframe thead th {\n",
       "        text-align: right;\n",
       "    }\n",
       "</style>\n",
       "<table border=\"1\" class=\"dataframe\">\n",
       "  <thead>\n",
       "    <tr style=\"text-align: right;\">\n",
       "      <th></th>\n",
       "      <th>image_id</th>\n",
       "      <th>healthy</th>\n",
       "      <th>multiple_diseases</th>\n",
       "      <th>rust</th>\n",
       "      <th>scab</th>\n",
       "    </tr>\n",
       "  </thead>\n",
       "  <tbody>\n",
       "    <tr>\n",
       "      <th>0</th>\n",
       "      <td>Train_0</td>\n",
       "      <td>0</td>\n",
       "      <td>0</td>\n",
       "      <td>0</td>\n",
       "      <td>1</td>\n",
       "    </tr>\n",
       "    <tr>\n",
       "      <th>1</th>\n",
       "      <td>Train_1</td>\n",
       "      <td>0</td>\n",
       "      <td>1</td>\n",
       "      <td>0</td>\n",
       "      <td>0</td>\n",
       "    </tr>\n",
       "    <tr>\n",
       "      <th>2</th>\n",
       "      <td>Train_2</td>\n",
       "      <td>1</td>\n",
       "      <td>0</td>\n",
       "      <td>0</td>\n",
       "      <td>0</td>\n",
       "    </tr>\n",
       "    <tr>\n",
       "      <th>3</th>\n",
       "      <td>Train_3</td>\n",
       "      <td>0</td>\n",
       "      <td>0</td>\n",
       "      <td>1</td>\n",
       "      <td>0</td>\n",
       "    </tr>\n",
       "    <tr>\n",
       "      <th>4</th>\n",
       "      <td>Train_4</td>\n",
       "      <td>1</td>\n",
       "      <td>0</td>\n",
       "      <td>0</td>\n",
       "      <td>0</td>\n",
       "    </tr>\n",
       "  </tbody>\n",
       "</table>\n",
       "</div>"
      ],
      "text/plain": [
       "  image_id  healthy  multiple_diseases  rust  scab\n",
       "0  Train_0        0                  0     0     1\n",
       "1  Train_1        0                  1     0     0\n",
       "2  Train_2        1                  0     0     0\n",
       "3  Train_3        0                  0     1     0\n",
       "4  Train_4        1                  0     0     0"
      ]
     },
     "execution_count": 2,
     "metadata": {},
     "output_type": "execute_result"
    }
   ],
   "source": [
    "train = pd.read_csv('train.csv')\n",
    "train.head()"
   ]
  },
  {
   "cell_type": "code",
   "execution_count": 3,
   "metadata": {},
   "outputs": [
    {
     "name": "stderr",
     "output_type": "stream",
     "text": [
      "100%|██████████████████████████████████████████████████████████████████████████████| 1821/1821 [02:29<00:00, 20.18it/s]\n"
     ]
    }
   ],
   "source": [
    "train_image = []\n",
    "for i in tqdm(range(train.shape[0])):\n",
    "    img = image.load_img('train/'+train['image_id'][i]+'.jpg',target_size=(400,400,3))\n",
    "    img = image.img_to_array(img)\n",
    "    img = img/255\n",
    "    train_image.append(img)\n",
    "X = np.array(train_image)"
   ]
  },
  {
   "cell_type": "code",
   "execution_count": 4,
   "metadata": {},
   "outputs": [
    {
     "data": {
      "text/plain": [
       "(1821, 400, 400, 3)"
      ]
     },
     "execution_count": 4,
     "metadata": {},
     "output_type": "execute_result"
    }
   ],
   "source": [
    "X.shape"
   ]
  },
  {
   "cell_type": "code",
   "execution_count": 5,
   "metadata": {},
   "outputs": [
    {
     "data": {
      "text/plain": [
       "<matplotlib.image.AxesImage at 0x19580458eb8>"
      ]
     },
     "execution_count": 5,
     "metadata": {},
     "output_type": "execute_result"
    },
    {
     "data": {
      "image/png": "[encoded data removed]",
      "text/plain": [
       "<Figure size 432x288 with 1 Axes>"
      ]
     },
     "metadata": {
      "needs_background": "light"
     },
     "output_type": "display_data"
    }
   ],
   "source": [
    "plt.imshow(X[2])"
   ]
  },
  {
   "cell_type": "code",
   "execution_count": 6,
   "metadata": {},
   "outputs": [
    {
     "data": {
      "text/plain": [
       "0"
      ]
     },
     "execution_count": 6,
     "metadata": {},
     "output_type": "execute_result"
    }
   ],
   "source": [
    "train['multiple_diseases'][2]"
   ]
  },
  {
   "cell_type": "code",
   "execution_count": 7,
   "metadata": {},
   "outputs": [
    {
     "data": {
      "text/plain": [
       "(1821, 4)"
      ]
     },
     "execution_count": 7,
     "metadata": {},
     "output_type": "execute_result"
    }
   ],
   "source": [
    "y = np.array(train.drop(['image_id'],axis=1))\n",
    "y.shape"
   ]
  },
  {
   "cell_type": "code",
   "execution_count": 8,
   "metadata": {},
   "outputs": [],
   "source": [
    "X_train, X_test, y_train, y_test = train_test_split(X, y,  test_size=0.1)"
   ]
  },
  {
   "cell_type": "code",
   "execution_count": 9,
   "metadata": {},
   "outputs": [],
   "source": [
    "model = Sequential()\n",
    "model.add(Conv2D(filters=16, kernel_size=(5, 5), activation=\"relu\", input_shape=(400,400,3)))\n",
    "model.add(MaxPooling2D(pool_size=(2, 2)))\n",
    "model.add(Dropout(0.25))\n",
    "model.add(Conv2D(filters=32, kernel_size=(5, 5), activation='relu'))\n",
    "model.add(MaxPooling2D(pool_size=(2, 2)))\n",
    "model.add(Dropout(0.25))\n",
    "model.add(Conv2D(filters=64, kernel_size=(5, 5), activation=\"relu\"))\n",
    "model.add(MaxPooling2D(pool_size=(2, 2)))\n",
    "model.add(Dropout(0.25))\n",
    "model.add(Conv2D(filters=64, kernel_size=(5, 5), activation='relu'))\n",
    "model.add(MaxPooling2D(pool_size=(2, 2)))\n",
    "model.add(Dropout(0.25))\n",
    "model.add(Flatten())\n",
    "model.add(Dense(128, activation='relu'))\n",
    "model.add(Dropout(0.5))\n",
    "model.add(Dense(64, activation='relu'))\n",
    "model.add(Dropout(0.5))\n",
    "model.add(Dense(4, activation='sigmoid'))"
   ]
  },
  {
   "cell_type": "code",
   "execution_count": 10,
   "metadata": {},
   "outputs": [
    {
     "name": "stdout",
     "output_type": "stream",
     "text": [
      "Model: \"sequential_1\"\n",
      "_________________________________________________________________\n",
      "Layer (type)                 Output Shape              Param #   \n",
      "=================================================================\n",
      "conv2d_1 (Conv2D)            (None, 396, 396, 16)      1216      \n",
      "_________________________________________________________________\n",
      "max_pooling2d_1 (MaxPooling2 (None, 198, 198, 16)      0         \n",
      "_________________________________________________________________\n",
      "dropout_1 (Dropout)          (None, 198, 198, 16)      0         \n",
      "_________________________________________________________________\n",
      "conv2d_2 (Conv2D)            (None, 194, 194, 32)      12832     \n",
      "_________________________________________________________________\n",
      "max_pooling2d_2 (MaxPooling2 (None, 97, 97, 32)        0         \n",
      "_________________________________________________________________\n",
      "dropout_2 (Dropout)          (None, 97, 97, 32)        0         \n",
      "_________________________________________________________________\n",
      "conv2d_3 (Conv2D)            (None, 93, 93, 64)        51264     \n",
      "_________________________________________________________________\n",
      "max_pooling2d_3 (MaxPooling2 (None, 46, 46, 64)        0         \n",
      "_________________________________________________________________\n",
      "dropout_3 (Dropout)          (None, 46, 46, 64)        0         \n",
      "_________________________________________________________________\n",
      "conv2d_4 (Conv2D)            (None, 42, 42, 64)        102464    \n",
      "_________________________________________________________________\n",
      "max_pooling2d_4 (MaxPooling2 (None, 21, 21, 64)        0         \n",
      "_________________________________________________________________\n",
      "dropout_4 (Dropout)          (None, 21, 21, 64)        0         \n",
      "_________________________________________________________________\n",
      "flatten_1 (Flatten)          (None, 28224)             0         \n",
      "_________________________________________________________________\n",
      "dense_1 (Dense)              (None, 128)               3612800   \n",
      "_________________________________________________________________\n",
      "dropout_5 (Dropout)          (None, 128)               0         \n",
      "_________________________________________________________________\n",
      "dense_2 (Dense)              (None, 64)                8256      \n",
      "_________________________________________________________________\n",
      "dropout_6 (Dropout)          (None, 64)                0         \n",
      "_________________________________________________________________\n",
      "dense_3 (Dense)              (None, 4)                 260       \n",
      "=================================================================\n",
      "Total params: 3,789,092\n",
      "Trainable params: 3,789,092\n",
      "Non-trainable params: 0\n",
      "_________________________________________________________________\n"
     ]
    }
   ],
   "source": [
    "model.summary()"
   ]
  },
  {
   "cell_type": "code",
   "execution_count": 11,
   "metadata": {},
   "outputs": [],
   "source": [
    "model.compile(optimizer='adam', loss='binary_crossentropy', metrics=['accuracy'])"
   ]
  },
  {
   "cell_type": "code",
   "execution_count": 12,
   "metadata": {},
   "outputs": [
    {
     "name": "stdout",
     "output_type": "stream",
     "text": [
      "Train on 1638 samples, validate on 183 samples\n",
      "Epoch 1/6\n",
      "1638/1638 [==============================] - ETA: 33:15 - loss: 0.6896 - accuracy: 0.543 - ETA: 18:47 - loss: 0.7591 - accuracy: 0.619 - ETA: 13:55 - loss: 0.7234 - accuracy: 0.614 - ETA: 11:11 - loss: 0.7080 - accuracy: 0.611 - ETA: 9:27 - loss: 0.6975 - accuracy: 0.620 - ETA: 8:21 - loss: 0.6832 - accuracy: 0.64 - ETA: 7:22 - loss: 0.6650 - accuracy: 0.65 - ETA: 6:36 - loss: 0.6644 - accuracy: 0.65 - ETA: 5:56 - loss: 0.6585 - accuracy: 0.66 - ETA: 5:23 - loss: 0.6488 - accuracy: 0.67 - ETA: 4:53 - loss: 0.6420 - accuracy: 0.67 - ETA: 4:25 - loss: 0.6377 - accuracy: 0.67 - ETA: 4:02 - loss: 0.6339 - accuracy: 0.67 - ETA: 3:39 - loss: 0.6290 - accuracy: 0.68 - ETA: 3:17 - loss: 0.6257 - accuracy: 0.68 - ETA: 2:59 - loss: 0.6258 - accuracy: 0.68 - ETA: 2:38 - loss: 0.6247 - accuracy: 0.68 - ETA: 2:18 - loss: 0.6231 - accuracy: 0.68 - ETA: 1:58 - loss: 0.6206 - accuracy: 0.68 - ETA: 1:38 - loss: 0.6186 - accuracy: 0.68 - ETA: 1:20 - loss: 0.6155 - accuracy: 0.68 - ETA: 1:03 - loss: 0.6125 - accuracy: 0.68 - ETA: 46s - loss: 0.6113 - accuracy: 0.6875 - ETA: 28s - loss: 0.6103 - accuracy: 0.688 - ETA: 11s - loss: 0.6083 - accuracy: 0.689 - 522s 319ms/step - loss: 0.6072 - accuracy: 0.6905 - val_loss: 0.6038 - val_accuracy: 0.7500\n",
      "Epoch 2/6\n",
      "1638/1638 [==============================] - ETA: 5:26 - loss: 0.5817 - accuracy: 0.68 - ETA: 5:46 - loss: 0.5771 - accuracy: 0.70 - ETA: 5:26 - loss: 0.5766 - accuracy: 0.70 - ETA: 5:07 - loss: 0.5709 - accuracy: 0.70 - ETA: 4:49 - loss: 0.5675 - accuracy: 0.71 - ETA: 4:40 - loss: 0.5680 - accuracy: 0.71 - ETA: 4:23 - loss: 0.5651 - accuracy: 0.71 - ETA: 4:14 - loss: 0.5622 - accuracy: 0.71 - ETA: 3:58 - loss: 0.5671 - accuracy: 0.71 - ETA: 3:50 - loss: 0.5649 - accuracy: 0.71 - ETA: 3:50 - loss: 0.5617 - accuracy: 0.71 - ETA: 3:35 - loss: 0.5606 - accuracy: 0.72 - ETA: 3:17 - loss: 0.5614 - accuracy: 0.72 - ETA: 3:00 - loss: 0.5616 - accuracy: 0.72 - ETA: 2:43 - loss: 0.5624 - accuracy: 0.72 - ETA: 2:27 - loss: 0.5621 - accuracy: 0.71 - ETA: 2:11 - loss: 0.5608 - accuracy: 0.72 - ETA: 1:55 - loss: 0.5607 - accuracy: 0.72 - ETA: 1:39 - loss: 0.5589 - accuracy: 0.72 - ETA: 1:23 - loss: 0.5588 - accuracy: 0.72 - ETA: 1:08 - loss: 0.5582 - accuracy: 0.72 - ETA: 53s - loss: 0.5578 - accuracy: 0.7205 - ETA: 38s - loss: 0.5582 - accuracy: 0.720 - ETA: 23s - loss: 0.5570 - accuracy: 0.720 - ETA: 8s - loss: 0.5571 - accuracy: 0.721 - 384s 234ms/step - loss: 0.5572 - accuracy: 0.7205 - val_loss: 0.5993 - val_accuracy: 0.7500\n",
      "Epoch 3/6\n",
      "1638/1638 [==============================] - ETA: 5:29 - loss: 0.5358 - accuracy: 0.70 - ETA: 5:05 - loss: 0.5373 - accuracy: 0.71 - ETA: 4:58 - loss: 0.5514 - accuracy: 0.71 - ETA: 4:48 - loss: 0.5472 - accuracy: 0.72 - ETA: 4:31 - loss: 0.5513 - accuracy: 0.72 - ETA: 4:15 - loss: 0.5500 - accuracy: 0.72 - ETA: 4:01 - loss: 0.5498 - accuracy: 0.72 - ETA: 3:47 - loss: 0.5498 - accuracy: 0.73 - ETA: 3:35 - loss: 0.5499 - accuracy: 0.73 - ETA: 3:21 - loss: 0.5507 - accuracy: 0.73 - ETA: 3:09 - loss: 0.5514 - accuracy: 0.73 - ETA: 2:56 - loss: 0.5491 - accuracy: 0.73 - ETA: 2:45 - loss: 0.5463 - accuracy: 0.73 - ETA: 2:31 - loss: 0.5460 - accuracy: 0.73 - ETA: 2:19 - loss: 0.5478 - accuracy: 0.73 - ETA: 2:07 - loss: 0.5499 - accuracy: 0.73 - ETA: 1:55 - loss: 0.5523 - accuracy: 0.73 - ETA: 1:43 - loss: 0.5518 - accuracy: 0.73 - ETA: 1:30 - loss: 0.5522 - accuracy: 0.73 - ETA: 1:16 - loss: 0.5524 - accuracy: 0.73 - ETA: 1:03 - loss: 0.5526 - accuracy: 0.73 - ETA: 49s - loss: 0.5521 - accuracy: 0.7308 - ETA: 35s - loss: 0.5507 - accuracy: 0.731 - ETA: 21s - loss: 0.5507 - accuracy: 0.731 - ETA: 8s - loss: 0.5495 - accuracy: 0.732 - 359s 219ms/step - loss: 0.5502 - accuracy: 0.7321 - val_loss: 0.5642 - val_accuracy: 0.7500\n",
      "Epoch 4/6\n",
      "1638/1638 [==============================] - ETA: 5:49 - loss: 0.5616 - accuracy: 0.74 - ETA: 5:34 - loss: 0.5515 - accuracy: 0.74 - ETA: 5:28 - loss: 0.5407 - accuracy: 0.74 - ETA: 5:10 - loss: 0.5357 - accuracy: 0.75 - ETA: 5:00 - loss: 0.5344 - accuracy: 0.74 - ETA: 4:56 - loss: 0.5340 - accuracy: 0.74 - ETA: 4:42 - loss: 0.5448 - accuracy: 0.74 - ETA: 4:25 - loss: 0.5469 - accuracy: 0.74 - ETA: 4:05 - loss: 0.5463 - accuracy: 0.74 - ETA: 3:50 - loss: 0.5453 - accuracy: 0.74 - ETA: 3:35 - loss: 0.5442 - accuracy: 0.74 - ETA: 3:20 - loss: 0.5465 - accuracy: 0.74 - ETA: 3:04 - loss: 0.5464 - accuracy: 0.74 - ETA: 2:48 - loss: 0.5452 - accuracy: 0.74 - ETA: 2:32 - loss: 0.5450 - accuracy: 0.73 - ETA: 2:18 - loss: 0.5440 - accuracy: 0.73 - ETA: 2:02 - loss: 0.5437 - accuracy: 0.73 - ETA: 1:48 - loss: 0.5430 - accuracy: 0.73 - ETA: 1:33 - loss: 0.5422 - accuracy: 0.73 - ETA: 1:18 - loss: 0.5424 - accuracy: 0.74 - ETA: 1:04 - loss: 0.5414 - accuracy: 0.74 - ETA: 49s - loss: 0.5408 - accuracy: 0.7406 - ETA: 35s - loss: 0.5408 - accuracy: 0.740 - ETA: 21s - loss: 0.5399 - accuracy: 0.741 - ETA: 8s - loss: 0.5391 - accuracy: 0.741 - 355s 217ms/step - loss: 0.5393 - accuracy: 0.7410 - val_loss: 0.5515 - val_accuracy: 0.7500\n",
      "Epoch 5/6\n",
      "1638/1638 [==============================] - ETA: 4:46 - loss: 0.5021 - accuracy: 0.72 - ETA: 4:38 - loss: 0.5188 - accuracy: 0.73 - ETA: 4:28 - loss: 0.5256 - accuracy: 0.73 - ETA: 4:18 - loss: 0.5200 - accuracy: 0.74 - ETA: 4:06 - loss: 0.5193 - accuracy: 0.74 - ETA: 3:53 - loss: 0.5184 - accuracy: 0.74 - ETA: 3:41 - loss: 0.5246 - accuracy: 0.73 - ETA: 3:31 - loss: 0.5273 - accuracy: 0.73 - ETA: 3:25 - loss: 0.5282 - accuracy: 0.73 - ETA: 3:19 - loss: 0.5331 - accuracy: 0.73 - ETA: 3:06 - loss: 0.5321 - accuracy: 0.73 - ETA: 2:54 - loss: 0.5329 - accuracy: 0.73 - ETA: 2:44 - loss: 0.5321 - accuracy: 0.73 - ETA: 2:30 - loss: 0.5339 - accuracy: 0.73 - ETA: 2:18 - loss: 0.5331 - accuracy: 0.73 - ETA: 2:07 - loss: 0.5337 - accuracy: 0.73 - ETA: 1:57 - loss: 0.5331 - accuracy: 0.73 - ETA: 1:44 - loss: 0.5335 - accuracy: 0.73 - ETA: 1:30 - loss: 0.5323 - accuracy: 0.73 - ETA: 1:16 - loss: 0.5330 - accuracy: 0.73 - ETA: 1:02 - loss: 0.5324 - accuracy: 0.73 - ETA: 49s - loss: 0.5316 - accuracy: 0.7376 - ETA: 35s - loss: 0.5312 - accuracy: 0.737 - ETA: 21s - loss: 0.5304 - accuracy: 0.738 - ETA: 8s - loss: 0.5300 - accuracy: 0.739 - 364s 222ms/step - loss: 0.5307 - accuracy: 0.7396 - val_loss: 0.5379 - val_accuracy: 0.7500\n",
      "Epoch 6/6\n",
      "1638/1638 [==============================] - ETA: 5:40 - loss: 0.5438 - accuracy: 0.75 - ETA: 5:41 - loss: 0.5487 - accuracy: 0.74 - ETA: 5:38 - loss: 0.5450 - accuracy: 0.74 - ETA: 5:29 - loss: 0.5399 - accuracy: 0.74 - ETA: 5:29 - loss: 0.5397 - accuracy: 0.74 - ETA: 5:17 - loss: 0.5380 - accuracy: 0.74 - ETA: 4:53 - loss: 0.5364 - accuracy: 0.74 - ETA: 4:32 - loss: 0.5378 - accuracy: 0.74 - ETA: 4:14 - loss: 0.5402 - accuracy: 0.74 - ETA: 3:56 - loss: 0.5389 - accuracy: 0.74 - ETA: 3:39 - loss: 0.5381 - accuracy: 0.74 - ETA: 3:20 - loss: 0.5369 - accuracy: 0.74 - ETA: 3:04 - loss: 0.5361 - accuracy: 0.74 - ETA: 2:48 - loss: 0.5349 - accuracy: 0.74 - ETA: 2:32 - loss: 0.5328 - accuracy: 0.74 - ETA: 2:16 - loss: 0.5334 - accuracy: 0.74 - ETA: 2:01 - loss: 0.5322 - accuracy: 0.74 - ETA: 1:46 - loss: 0.5303 - accuracy: 0.74 - ETA: 1:31 - loss: 0.5316 - accuracy: 0.74 - ETA: 1:16 - loss: 0.5312 - accuracy: 0.74 - ETA: 1:02 - loss: 0.5314 - accuracy: 0.74 - ETA: 49s - loss: 0.5303 - accuracy: 0.7433 - ETA: 35s - loss: 0.5299 - accuracy: 0.743 - ETA: 21s - loss: 0.5309 - accuracy: 0.742 - ETA: 8s - loss: 0.5304 - accuracy: 0.742 - 358s 219ms/step - loss: 0.5306 - accuracy: 0.7427 - val_loss: 0.5335 - val_accuracy: 0.7500\n"
     ]
    },
    {
     "data": {
      "text/plain": [
       "<keras.callbacks.callbacks.History at 0x1980ace47f0>"
      ]
     },
     "execution_count": 12,
     "metadata": {},
     "output_type": "execute_result"
    }
   ],
   "source": [
    "model.fit(X_train, y_train, epochs=6, validation_data=(X_test, y_test), batch_size=64)"
   ]
  },
  {
   "cell_type": "code",
   "execution_count": 76,
   "metadata": {},
   "outputs": [
    {
     "data": {
      "text/html": [
       "<div>\n",
       "<style scoped>\n",
       "    .dataframe tbody tr th:only-of-type {\n",
       "        vertical-align: middle;\n",
       "    }\n",
       "\n",
       "    .dataframe tbody tr th {\n",
       "        vertical-align: top;\n",
       "    }\n",
       "\n",
       "    .dataframe thead th {\n",
       "        text-align: right;\n",
       "    }\n",
       "</style>\n",
       "<table border=\"1\" class=\"dataframe\">\n",
       "  <thead>\n",
       "    <tr style=\"text-align: right;\">\n",
       "      <th></th>\n",
       "      <th>image_id</th>\n",
       "      <th>healthy</th>\n",
       "      <th>multiple_diseases</th>\n",
       "      <th>rust</th>\n",
       "      <th>scab</th>\n",
       "    </tr>\n",
       "  </thead>\n",
       "  <tbody>\n",
       "    <tr>\n",
       "      <th>0</th>\n",
       "      <td>Test_0</td>\n",
       "      <td>0.325468</td>\n",
       "      <td>0.135776</td>\n",
       "      <td>0.418258</td>\n",
       "      <td>0.396914</td>\n",
       "    </tr>\n",
       "    <tr>\n",
       "      <th>1</th>\n",
       "      <td>Test_1</td>\n",
       "      <td>0.326293</td>\n",
       "      <td>0.130487</td>\n",
       "      <td>0.415456</td>\n",
       "      <td>0.389901</td>\n",
       "    </tr>\n",
       "    <tr>\n",
       "      <th>2</th>\n",
       "      <td>Test_2</td>\n",
       "      <td>0.330369</td>\n",
       "      <td>0.136900</td>\n",
       "      <td>0.416173</td>\n",
       "      <td>0.393553</td>\n",
       "    </tr>\n",
       "    <tr>\n",
       "      <th>3</th>\n",
       "      <td>Test_3</td>\n",
       "      <td>0.356903</td>\n",
       "      <td>0.133454</td>\n",
       "      <td>0.405138</td>\n",
       "      <td>0.373612</td>\n",
       "    </tr>\n",
       "    <tr>\n",
       "      <th>4</th>\n",
       "      <td>Test_4</td>\n",
       "      <td>0.326220</td>\n",
       "      <td>0.135698</td>\n",
       "      <td>0.418492</td>\n",
       "      <td>0.395385</td>\n",
       "    </tr>\n",
       "  </tbody>\n",
       "</table>\n",
       "</div>"
      ],
      "text/plain": [
       "  image_id   healthy  multiple_diseases      rust      scab\n",
       "0   Test_0  0.325468           0.135776  0.418258  0.396914\n",
       "1   Test_1  0.326293           0.130487  0.415456  0.389901\n",
       "2   Test_2  0.330369           0.136900  0.416173  0.393553\n",
       "3   Test_3  0.356903           0.133454  0.405138  0.373612\n",
       "4   Test_4  0.326220           0.135698  0.418492  0.395385"
      ]
     },
     "execution_count": 76,
     "metadata": {},
     "output_type": "execute_result"
    }
   ],
   "source": [
    "test = pd.read_csv('test.csv')\n",
    "test.head()"
   ]
  },
  {
   "cell_type": "code",
   "execution_count": 14,
   "metadata": {},
   "outputs": [
    {
     "name": "stderr",
     "output_type": "stream",
     "text": [
      "100%|██████████████████████████████████████████████████████████████████████████████| 1821/1821 [03:32<00:00,  8.55it/s]\n"
     ]
    }
   ],
   "source": [
    "test_image = []\n",
    "for i in tqdm(range(test.shape[0])):\n",
    "    img = image.load_img('test/'+test['image_id'][i]+'.jpg',target_size=(400,400,3))\n",
    "    img = image.img_to_array(img)\n",
    "    img = img/255\n",
    "    test_image.append(img)"
   ]
  },
  {
   "cell_type": "code",
   "execution_count": 27,
   "metadata": {},
   "outputs": [],
   "source": [
    "classes = np.array(train.columns[1:])\n",
    "proba = model.predict(test_image[0].reshape(1,400,400,3))"
   ]
  },
  {
   "cell_type": "code",
   "execution_count": 28,
   "metadata": {},
   "outputs": [
    {
     "data": {
      "text/plain": [
       "array([[0.32546753, 0.13577561, 0.41825777, 0.39691412]], dtype=float32)"
      ]
     },
     "execution_count": 28,
     "metadata": {},
     "output_type": "execute_result"
    }
   ],
   "source": [
    "proba"
   ]
  },
  {
   "cell_type": "code",
   "execution_count": 36,
   "metadata": {},
   "outputs": [
    {
     "name": "stderr",
     "output_type": "stream",
     "text": [
      "100%|██████████████████████████████████████████████████████████████████████████████| 1821/1821 [02:55<00:00, 10.36it/s]\n"
     ]
    }
   ],
   "source": [
    "data = []\n",
    "for i in tqdm(range(test.shape[0])):\n",
    "    proba = model.predict(test_image[i].reshape(1,400,400,3))\n",
    "    data.append((proba))"
   ]
  },
  {
   "cell_type": "code",
   "execution_count": 58,
   "metadata": {},
   "outputs": [],
   "source": [
    "df_result = pd.DataFrame(np.array(data).reshape(1821,4), columns = ['healthy', 'multiple_disease', 'rust', 'scab'])"
   ]
  },
  {
   "cell_type": "code",
   "execution_count": 59,
   "metadata": {},
   "outputs": [
    {
     "data": {
      "text/plain": [
       "(1821, 4)"
      ]
     },
     "execution_count": 59,
     "metadata": {},
     "output_type": "execute_result"
    }
   ],
   "source": [
    "df_result.shape"
   ]
  },
  {
   "cell_type": "code",
   "execution_count": 60,
   "metadata": {},
   "outputs": [
    {
     "data": {
      "text/html": [
       "<div>\n",
       "<style scoped>\n",
       "    .dataframe tbody tr th:only-of-type {\n",
       "        vertical-align: middle;\n",
       "    }\n",
       "\n",
       "    .dataframe tbody tr th {\n",
       "        vertical-align: top;\n",
       "    }\n",
       "\n",
       "    .dataframe thead th {\n",
       "        text-align: right;\n",
       "    }\n",
       "</style>\n",
       "<table border=\"1\" class=\"dataframe\">\n",
       "  <thead>\n",
       "    <tr style=\"text-align: right;\">\n",
       "      <th></th>\n",
       "      <th>healthy</th>\n",
       "      <th>multiple_disease</th>\n",
       "      <th>rust</th>\n",
       "      <th>scab</th>\n",
       "    </tr>\n",
       "  </thead>\n",
       "  <tbody>\n",
       "    <tr>\n",
       "      <th>0</th>\n",
       "      <td>0.325468</td>\n",
       "      <td>0.135776</td>\n",
       "      <td>0.418258</td>\n",
       "      <td>0.396914</td>\n",
       "    </tr>\n",
       "    <tr>\n",
       "      <th>1</th>\n",
       "      <td>0.326293</td>\n",
       "      <td>0.130487</td>\n",
       "      <td>0.415456</td>\n",
       "      <td>0.389901</td>\n",
       "    </tr>\n",
       "    <tr>\n",
       "      <th>2</th>\n",
       "      <td>0.330369</td>\n",
       "      <td>0.136900</td>\n",
       "      <td>0.416173</td>\n",
       "      <td>0.393553</td>\n",
       "    </tr>\n",
       "    <tr>\n",
       "      <th>3</th>\n",
       "      <td>0.356903</td>\n",
       "      <td>0.133454</td>\n",
       "      <td>0.405138</td>\n",
       "      <td>0.373612</td>\n",
       "    </tr>\n",
       "    <tr>\n",
       "      <th>4</th>\n",
       "      <td>0.326220</td>\n",
       "      <td>0.135698</td>\n",
       "      <td>0.418492</td>\n",
       "      <td>0.395385</td>\n",
       "    </tr>\n",
       "  </tbody>\n",
       "</table>\n",
       "</div>"
      ],
      "text/plain": [
       "    healthy  multiple_disease      rust      scab\n",
       "0  0.325468          0.135776  0.418258  0.396914\n",
       "1  0.326293          0.130487  0.415456  0.389901\n",
       "2  0.330369          0.136900  0.416173  0.393553\n",
       "3  0.356903          0.133454  0.405138  0.373612\n",
       "4  0.326220          0.135698  0.418492  0.395385"
      ]
     },
     "execution_count": 60,
     "metadata": {},
     "output_type": "execute_result"
    }
   ],
   "source": [
    "df_result.head()"
   ]
  },
  {
   "cell_type": "code",
   "execution_count": 70,
   "metadata": {},
   "outputs": [
    {
     "data": {
      "text/html": [
       "<div>\n",
       "<style scoped>\n",
       "    .dataframe tbody tr th:only-of-type {\n",
       "        vertical-align: middle;\n",
       "    }\n",
       "\n",
       "    .dataframe tbody tr th {\n",
       "        vertical-align: top;\n",
       "    }\n",
       "\n",
       "    .dataframe thead th {\n",
       "        text-align: right;\n",
       "    }\n",
       "</style>\n",
       "<table border=\"1\" class=\"dataframe\">\n",
       "  <thead>\n",
       "    <tr style=\"text-align: right;\">\n",
       "      <th></th>\n",
       "      <th>image_id</th>\n",
       "    </tr>\n",
       "  </thead>\n",
       "  <tbody>\n",
       "    <tr>\n",
       "      <th>0</th>\n",
       "      <td>Test_0</td>\n",
       "    </tr>\n",
       "    <tr>\n",
       "      <th>1</th>\n",
       "      <td>Test_1</td>\n",
       "    </tr>\n",
       "    <tr>\n",
       "      <th>2</th>\n",
       "      <td>Test_2</td>\n",
       "    </tr>\n",
       "    <tr>\n",
       "      <th>3</th>\n",
       "      <td>Test_3</td>\n",
       "    </tr>\n",
       "    <tr>\n",
       "      <th>4</th>\n",
       "      <td>Test_4</td>\n",
       "    </tr>\n",
       "  </tbody>\n",
       "</table>\n",
       "</div>"
      ],
      "text/plain": [
       "  image_id\n",
       "0   Test_0\n",
       "1   Test_1\n",
       "2   Test_2\n",
       "3   Test_3\n",
       "4   Test_4"
      ]
     },
     "execution_count": 70,
     "metadata": {},
     "output_type": "execute_result"
    }
   ],
   "source": [
    "df = pd.read_csv('C:/Users/Dell/Desktop/Plant Pathology/test.csv')\n",
    "df.head()"
   ]
  },
  {
   "cell_type": "code",
   "execution_count": 71,
   "metadata": {},
   "outputs": [
    {
     "data": {
      "text/html": [
       "<div>\n",
       "<style scoped>\n",
       "    .dataframe tbody tr th:only-of-type {\n",
       "        vertical-align: middle;\n",
       "    }\n",
       "\n",
       "    .dataframe tbody tr th {\n",
       "        vertical-align: top;\n",
       "    }\n",
       "\n",
       "    .dataframe thead th {\n",
       "        text-align: right;\n",
       "    }\n",
       "</style>\n",
       "<table border=\"1\" class=\"dataframe\">\n",
       "  <thead>\n",
       "    <tr style=\"text-align: right;\">\n",
       "      <th></th>\n",
       "      <th>image_id</th>\n",
       "      <th>healthy</th>\n",
       "    </tr>\n",
       "  </thead>\n",
       "  <tbody>\n",
       "    <tr>\n",
       "      <th>0</th>\n",
       "      <td>Test_0</td>\n",
       "      <td>0.325468</td>\n",
       "    </tr>\n",
       "    <tr>\n",
       "      <th>1</th>\n",
       "      <td>Test_1</td>\n",
       "      <td>0.326293</td>\n",
       "    </tr>\n",
       "    <tr>\n",
       "      <th>2</th>\n",
       "      <td>Test_2</td>\n",
       "      <td>0.330369</td>\n",
       "    </tr>\n",
       "    <tr>\n",
       "      <th>3</th>\n",
       "      <td>Test_3</td>\n",
       "      <td>0.356903</td>\n",
       "    </tr>\n",
       "    <tr>\n",
       "      <th>4</th>\n",
       "      <td>Test_4</td>\n",
       "      <td>0.326220</td>\n",
       "    </tr>\n",
       "  </tbody>\n",
       "</table>\n",
       "</div>"
      ],
      "text/plain": [
       "  image_id   healthy\n",
       "0   Test_0  0.325468\n",
       "1   Test_1  0.326293\n",
       "2   Test_2  0.330369\n",
       "3   Test_3  0.356903\n",
       "4   Test_4  0.326220"
      ]
     },
     "execution_count": 71,
     "metadata": {},
     "output_type": "execute_result"
    }
   ],
   "source": [
    "df['healthy'] = df_result['healthy']\n",
    "df.head()"
   ]
  },
  {
   "cell_type": "code",
   "execution_count": 72,
   "metadata": {},
   "outputs": [
    {
     "data": {
      "text/html": [
       "<div>\n",
       "<style scoped>\n",
       "    .dataframe tbody tr th:only-of-type {\n",
       "        vertical-align: middle;\n",
       "    }\n",
       "\n",
       "    .dataframe tbody tr th {\n",
       "        vertical-align: top;\n",
       "    }\n",
       "\n",
       "    .dataframe thead th {\n",
       "        text-align: right;\n",
       "    }\n",
       "</style>\n",
       "<table border=\"1\" class=\"dataframe\">\n",
       "  <thead>\n",
       "    <tr style=\"text-align: right;\">\n",
       "      <th></th>\n",
       "      <th>image_id</th>\n",
       "      <th>healthy</th>\n",
       "      <th>multiple_diseases</th>\n",
       "    </tr>\n",
       "  </thead>\n",
       "  <tbody>\n",
       "    <tr>\n",
       "      <th>0</th>\n",
       "      <td>Test_0</td>\n",
       "      <td>0.325468</td>\n",
       "      <td>0.135776</td>\n",
       "    </tr>\n",
       "    <tr>\n",
       "      <th>1</th>\n",
       "      <td>Test_1</td>\n",
       "      <td>0.326293</td>\n",
       "      <td>0.130487</td>\n",
       "    </tr>\n",
       "    <tr>\n",
       "      <th>2</th>\n",
       "      <td>Test_2</td>\n",
       "      <td>0.330369</td>\n",
       "      <td>0.136900</td>\n",
       "    </tr>\n",
       "    <tr>\n",
       "      <th>3</th>\n",
       "      <td>Test_3</td>\n",
       "      <td>0.356903</td>\n",
       "      <td>0.133454</td>\n",
       "    </tr>\n",
       "    <tr>\n",
       "      <th>4</th>\n",
       "      <td>Test_4</td>\n",
       "      <td>0.326220</td>\n",
       "      <td>0.135698</td>\n",
       "    </tr>\n",
       "  </tbody>\n",
       "</table>\n",
       "</div>"
      ],
      "text/plain": [
       "  image_id   healthy  multiple_diseases\n",
       "0   Test_0  0.325468           0.135776\n",
       "1   Test_1  0.326293           0.130487\n",
       "2   Test_2  0.330369           0.136900\n",
       "3   Test_3  0.356903           0.133454\n",
       "4   Test_4  0.326220           0.135698"
      ]
     },
     "execution_count": 72,
     "metadata": {},
     "output_type": "execute_result"
    }
   ],
   "source": [
    "df['multiple_diseases'] = df_result['multiple_disease']\n",
    "df.head()"
   ]
  },
  {
   "cell_type": "code",
   "execution_count": 73,
   "metadata": {},
   "outputs": [
    {
     "data": {
      "text/html": [
       "<div>\n",
       "<style scoped>\n",
       "    .dataframe tbody tr th:only-of-type {\n",
       "        vertical-align: middle;\n",
       "    }\n",
       "\n",
       "    .dataframe tbody tr th {\n",
       "        vertical-align: top;\n",
       "    }\n",
       "\n",
       "    .dataframe thead th {\n",
       "        text-align: right;\n",
       "    }\n",
       "</style>\n",
       "<table border=\"1\" class=\"dataframe\">\n",
       "  <thead>\n",
       "    <tr style=\"text-align: right;\">\n",
       "      <th></th>\n",
       "      <th>image_id</th>\n",
       "      <th>healthy</th>\n",
       "      <th>multiple_diseases</th>\n",
       "      <th>rust</th>\n",
       "    </tr>\n",
       "  </thead>\n",
       "  <tbody>\n",
       "    <tr>\n",
       "      <th>0</th>\n",
       "      <td>Test_0</td>\n",
       "      <td>0.325468</td>\n",
       "      <td>0.135776</td>\n",
       "      <td>0.418258</td>\n",
       "    </tr>\n",
       "    <tr>\n",
       "      <th>1</th>\n",
       "      <td>Test_1</td>\n",
       "      <td>0.326293</td>\n",
       "      <td>0.130487</td>\n",
       "      <td>0.415456</td>\n",
       "    </tr>\n",
       "    <tr>\n",
       "      <th>2</th>\n",
       "      <td>Test_2</td>\n",
       "      <td>0.330369</td>\n",
       "      <td>0.136900</td>\n",
       "      <td>0.416173</td>\n",
       "    </tr>\n",
       "    <tr>\n",
       "      <th>3</th>\n",
       "      <td>Test_3</td>\n",
       "      <td>0.356903</td>\n",
       "      <td>0.133454</td>\n",
       "      <td>0.405138</td>\n",
       "    </tr>\n",
       "    <tr>\n",
       "      <th>4</th>\n",
       "      <td>Test_4</td>\n",
       "      <td>0.326220</td>\n",
       "      <td>0.135698</td>\n",
       "      <td>0.418492</td>\n",
       "    </tr>\n",
       "  </tbody>\n",
       "</table>\n",
       "</div>"
      ],
      "text/plain": [
       "  image_id   healthy  multiple_diseases      rust\n",
       "0   Test_0  0.325468           0.135776  0.418258\n",
       "1   Test_1  0.326293           0.130487  0.415456\n",
       "2   Test_2  0.330369           0.136900  0.416173\n",
       "3   Test_3  0.356903           0.133454  0.405138\n",
       "4   Test_4  0.326220           0.135698  0.418492"
      ]
     },
     "execution_count": 73,
     "metadata": {},
     "output_type": "execute_result"
    }
   ],
   "source": [
    "df['rust'] = df_result['rust']\n",
    "df.head()"
   ]
  },
  {
   "cell_type": "code",
   "execution_count": 74,
   "metadata": {},
   "outputs": [
    {
     "data": {
      "text/html": [
       "<div>\n",
       "<style scoped>\n",
       "    .dataframe tbody tr th:only-of-type {\n",
       "        vertical-align: middle;\n",
       "    }\n",
       "\n",
       "    .dataframe tbody tr th {\n",
       "        vertical-align: top;\n",
       "    }\n",
       "\n",
       "    .dataframe thead th {\n",
       "        text-align: right;\n",
       "    }\n",
       "</style>\n",
       "<table border=\"1\" class=\"dataframe\">\n",
       "  <thead>\n",
       "    <tr style=\"text-align: right;\">\n",
       "      <th></th>\n",
       "      <th>image_id</th>\n",
       "      <th>healthy</th>\n",
       "      <th>multiple_diseases</th>\n",
       "      <th>rust</th>\n",
       "      <th>scab</th>\n",
       "    </tr>\n",
       "  </thead>\n",
       "  <tbody>\n",
       "    <tr>\n",
       "      <th>0</th>\n",
       "      <td>Test_0</td>\n",
       "      <td>0.325468</td>\n",
       "      <td>0.135776</td>\n",
       "      <td>0.418258</td>\n",
       "      <td>0.396914</td>\n",
       "    </tr>\n",
       "    <tr>\n",
       "      <th>1</th>\n",
       "      <td>Test_1</td>\n",
       "      <td>0.326293</td>\n",
       "      <td>0.130487</td>\n",
       "      <td>0.415456</td>\n",
       "      <td>0.389901</td>\n",
       "    </tr>\n",
       "    <tr>\n",
       "      <th>2</th>\n",
       "      <td>Test_2</td>\n",
       "      <td>0.330369</td>\n",
       "      <td>0.136900</td>\n",
       "      <td>0.416173</td>\n",
       "      <td>0.393553</td>\n",
       "    </tr>\n",
       "    <tr>\n",
       "      <th>3</th>\n",
       "      <td>Test_3</td>\n",
       "      <td>0.356903</td>\n",
       "      <td>0.133454</td>\n",
       "      <td>0.405138</td>\n",
       "      <td>0.373612</td>\n",
       "    </tr>\n",
       "    <tr>\n",
       "      <th>4</th>\n",
       "      <td>Test_4</td>\n",
       "      <td>0.326220</td>\n",
       "      <td>0.135698</td>\n",
       "      <td>0.418492</td>\n",
       "      <td>0.395385</td>\n",
       "    </tr>\n",
       "  </tbody>\n",
       "</table>\n",
       "</div>"
      ],
      "text/plain": [
       "  image_id   healthy  multiple_diseases      rust      scab\n",
       "0   Test_0  0.325468           0.135776  0.418258  0.396914\n",
       "1   Test_1  0.326293           0.130487  0.415456  0.389901\n",
       "2   Test_2  0.330369           0.136900  0.416173  0.393553\n",
       "3   Test_3  0.356903           0.133454  0.405138  0.373612\n",
       "4   Test_4  0.326220           0.135698  0.418492  0.395385"
      ]
     },
     "execution_count": 74,
     "metadata": {},
     "output_type": "execute_result"
    }
   ],
   "source": [
    "df['scab'] = df_result['scab']\n",
    "df.head()"
   ]
  },
  {
   "cell_type": "code",
   "execution_count": 75,
   "metadata": {},
   "outputs": [],
   "source": [
    "df.to_csv (r'test.csv', index = False, header=True)"
   ]
  },
  {
   "cell_type": "code",
   "execution_count": null,
   "metadata": {},
   "outputs": [],
   "source": []
  }
 ],
 "metadata": {
  "kernelspec": {
   "display_name": "Python 3",
   "language": "python",
   "name": "python3"
  },
  "language_info": {
   "codemirror_mode": {
    "name": "ipython",
    "version": 3
   },
   "file_extension": ".py",
   "mimetype": "text/x-python",
   "name": "python",
   "nbconvert_exporter": "python",
   "pygments_lexer": "ipython3",
   "version": "3.7.3"
  }
 },
 "nbformat": 4,
 "nbformat_minor": 2
}
